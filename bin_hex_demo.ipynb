{
 "metadata": {
  "language_info": {
   "codemirror_mode": {
    "name": "ipython",
    "version": 3
   },
   "file_extension": ".py",
   "mimetype": "text/x-python",
   "name": "python",
   "nbconvert_exporter": "python",
   "pygments_lexer": "ipython3",
   "version": "3.9.2-final"
  },
  "orig_nbformat": 2,
  "kernelspec": {
   "name": "python3",
   "display_name": "Python 3.9.2 64-bit ('venv': venv)",
   "metadata": {
    "interpreter": {
     "hash": "f9dbf902f602b63568b4601619cf7929fffef197f0970aa984b15a2f6add2255"
    }
   }
  }
 },
 "nbformat": 4,
 "nbformat_minor": 2,
 "cells": [
  {
   "cell_type": "code",
   "execution_count": 9,
   "metadata": {},
   "outputs": [
    {
     "output_type": "stream",
     "name": "stdout",
     "text": [
      "57647\n0xe12f\n0x64\n41472\n0xa200\n"
     ]
    }
   ],
   "source": [
    "num = 0x0E12F\n",
    "\n",
    "print(num)\n",
    "print(hex(num))\n",
    "\n",
    "print(hex(100))\n",
    "\n",
    "print(0x0A15F + 0xA1)\n",
    "print(hex(0x0A15F + 0xA1))"
   ]
  },
  {
   "cell_type": "code",
   "execution_count": 11,
   "metadata": {},
   "outputs": [
    {
     "output_type": "stream",
     "name": "stdout",
     "text": [
      "52458\n0b1100110011101010\n"
     ]
    }
   ],
   "source": [
    "num = 0b01100110011101010\n",
    "\n",
    "print(num)\n",
    "print(bin(num))"
   ]
  },
  {
   "cell_type": "code",
   "execution_count": 22,
   "metadata": {},
   "outputs": [
    {
     "output_type": "stream",
     "name": "stdout",
     "text": [
      "0b110100\n0b1101\n16\n0b1111\n0b1110\n0b10\n"
     ]
    }
   ],
   "source": [
    "num = 0b11010\n",
    "\n",
    "b1 = num << 1\n",
    "\n",
    "print(bin(b1))\n",
    "\n",
    "b2 = num >> 1\n",
    "\n",
    "print(bin(b2))\n",
    "\n",
    "n1 = 2 << 3\n",
    "print(n1)\n",
    "\n",
    "print(bin(0b0101 ^ 0b1010))\n",
    "print(bin(0b0110 | 0b1010))\n",
    "print(bin(0b0110 & 0b1010))"
   ]
  },
  {
   "cell_type": "code",
   "execution_count": null,
   "metadata": {},
   "outputs": [],
   "source": []
  }
 ]
}